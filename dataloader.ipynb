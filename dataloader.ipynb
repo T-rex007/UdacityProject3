{
 "cells": [
  {
   "cell_type": "code",
   "execution_count": 226,
   "metadata": {},
   "outputs": [],
   "source": [
    "import torch\n",
    "from torch.utils.data import Dataset\n",
    "from torchvision import datasets\n",
    "from torchvision.transforms import ToTensor, Resize , Normalize\n",
    "import matplotlib.pyplot as plt\n",
    "import os \n",
    "from torchvision.io import read_image\n",
    "import numpy as np \n",
    "\n",
    "from torch.utils.data import Dataset, DataLoader\n",
    "from torchvision import transforms, utils\n"
   ]
  },
  {
   "cell_type": "code",
   "execution_count": 227,
   "metadata": {},
   "outputs": [],
   "source": []
  },
  {
   "cell_type": "code",
   "execution_count": 228,
   "metadata": {},
   "outputs": [],
   "source": []
  },
  {
   "cell_type": "code",
   "execution_count": 229,
   "metadata": {},
   "outputs": [],
   "source": []
  },
  {
   "cell_type": "code",
   "execution_count": 230,
   "metadata": {},
   "outputs": [],
   "source": []
  },
  {
   "cell_type": "code",
   "execution_count": 231,
   "metadata": {},
   "outputs": [],
   "source": [
    "def shuffle_sequence(meta_data_dict):\n",
    "    shuffle_idx = np.random.permutation(len((meta_data_dict[\"image_name\"])))\n",
    "    meta_data_dict[\"image_name\"] = np.array(meta_data_dict[\"image_name\"])[shuffle_idx]\n",
    "    meta_data_dict[\"image_paths\"] = np.array(meta_data_dict[\"image_paths\"])[shuffle_idx]\n",
    "    meta_data_dict[\"class_idx\"] = np.array(meta_data_dict[\"class_idx\"])[shuffle_idx]\n",
    "    meta_data_dict[\"class_name\"] = np.array(meta_data_dict[\"class_name\"])[shuffle_idx]\n",
    "    meta_data_dict[\"idx\"] = np.array(meta_data_dict[\"idx\"])[shuffle_idx]\n",
    "    return meta_data_dict\n",
    "\n",
    "    "
   ]
  },
  {
   "cell_type": "code",
   "execution_count": 232,
   "metadata": {},
   "outputs": [],
   "source": [
    "PATH_BINDER = \"/\"\n",
    "\n",
    "TRAIN_PATH = \"dogImages\" +PATH_BINDER +\"dogImages\" +PATH_BINDER +\"train\"\n",
    "TEST_PATH = \"dogImages\" +PATH_BINDER +\"dogImages\" +PATH_BINDER +\"test\"\n",
    "train_class_folder_names = os.listdir(TRAIN_PATH)\n",
    "test_class_folder_names = os.listdir(TEST_PATH)\n",
    "\n",
    "\n",
    "train_class_map = {str(int(folder.split(\".\")[0])):folder.split(\".\")[1] for folder in train_class_folder_names}\n",
    "test_class_map = {str(int(folder.split(\".\")[0])):folder.split(\".\")[1] for folder in test_class_folder_names}\n",
    "def create_meta_dict(path, path_delimiter, folder_names):\n",
    "    meta_data_dict = {\n",
    "        \"image_name\":[],\n",
    "        \"image_paths\":[],  \n",
    "        \"class_idx\":[],  \n",
    "        \"class_name\":[],\n",
    "        \"idx\": []  \n",
    "    }  \n",
    "    idx = 0\n",
    "\n",
    "    for folder in folder_names:\n",
    "        tmp =  os.listdir(path + path_delimiter + folder)\n",
    "        meta_data_dict[\"image_name\"] += tmp\n",
    "        meta_data_dict[\"image_paths\"] += [ path_delimiter+ folder + path_delimiter + name for name in  tmp]\n",
    "        meta_data_dict[\"class_idx\"] += [int(folder.split(\".\")[0])] * len(tmp)\n",
    "        meta_data_dict[\"class_name\"] += [folder.split(\".\")[1]] * len(tmp)\n",
    "        meta_data_dict[\"idx\"] += [i for i in range(idx, idx + len(tmp), 1)]\n",
    "        idx += len(tmp) \n",
    "    return meta_data_dict\n",
    "    \n",
    "\n",
    "meta_data_dict_train = create_meta_dict(TRAIN_PATH, PATH_BINDER, train_class_folder_names)\n",
    "meta_data_dict_test = create_meta_dict(TEST_PATH, PATH_BINDER, test_class_folder_names)\n",
    "\n"
   ]
  },
  {
   "cell_type": "code",
   "execution_count": 241,
   "metadata": {},
   "outputs": [],
   "source": []
  },
  {
   "cell_type": "code",
   "execution_count": 242,
   "metadata": {},
   "outputs": [],
   "source": [
    "# image_scaler = Rescale(256)\n",
    "image_transformer = transforms.Compose([\n",
    "    Resize((256, 256)), Normalize(\n",
    "       mean=[0.485, 0.456, 0.406],\n",
    "       std=[0.229, 0.224, 0.225]\n",
    "       )\n",
    "    ]\n",
    ")\n",
    "t = MyDogCustomImageDataset(meta_data_dict_train_shuffled, TRAIN_PATH, image_transformer)\n",
    "\n",
    "\n",
    "dataloader = DataLoader(t, batch_size=4,\n",
    "                        shuffle=True, num_workers=0)"
   ]
  },
  {
   "cell_type": "code",
   "execution_count": 243,
   "metadata": {},
   "outputs": [
    {
     "data": {
      "text/plain": [
       "(tensor([[[-1.0246, -1.5255, -1.6644,  ..., -1.8340, -1.8972, -1.8543],\n",
       "          [-0.6912, -1.4158, -1.6756,  ..., -1.8680, -1.8953, -1.8990],\n",
       "          [-0.8587, -1.3435, -1.6010,  ..., -1.8506, -1.8733, -1.8757],\n",
       "          ...,\n",
       "          [-1.7190, -1.6641, -1.5667,  ...,  0.7861,  0.7786,  0.7443],\n",
       "          [-1.6705, -1.6756, -1.4629,  ...,  0.6515,  0.6868,  0.6705],\n",
       "          [-1.6959, -1.6764, -1.5028,  ...,  0.5386,  0.6892,  0.7162]],\n",
       " \n",
       "         [[-0.5394, -1.3275, -1.6175,  ..., -1.7222, -1.8024, -1.7488],\n",
       "          [-0.3870, -1.1787, -1.5964,  ..., -1.7392, -1.7851, -1.8120],\n",
       "          [-0.4193, -1.0687, -1.5225,  ..., -1.6749, -1.7458, -1.7882],\n",
       "          ...,\n",
       "          [-1.5603, -1.5447, -1.4055,  ...,  0.8256,  0.8598,  0.8237],\n",
       "          [-1.5811, -1.5255, -1.3453,  ...,  0.7307,  0.7791,  0.7569],\n",
       "          [-1.5518, -1.5318, -1.3352,  ...,  0.6199,  0.7640,  0.7936]],\n",
       " \n",
       "         [[-0.4687, -1.1571, -1.0346,  ..., -1.6269, -1.6171, -1.6133],\n",
       "          [-0.1351, -0.9774, -1.1473,  ..., -1.6413, -1.6370, -1.6056],\n",
       "          [-0.2140, -0.7846, -1.1446,  ..., -1.5460, -1.5811, -1.5858],\n",
       "          ...,\n",
       "          [-1.1677, -1.1146, -1.0357,  ...,  0.8116,  0.8511,  0.8167],\n",
       "          [-1.2475, -1.1397, -1.0433,  ...,  0.6814,  0.7364,  0.7307],\n",
       "          [-1.2102, -1.1459, -1.0272,  ...,  0.6008,  0.7811,  0.8268]]],\n",
       "        dtype=torch.float64),\n",
       " 105)"
      ]
     },
     "execution_count": 243,
     "metadata": {},
     "output_type": "execute_result"
    }
   ],
   "source": [
    "t.__getitem__(1)"
   ]
  },
  {
   "cell_type": "code",
   "execution_count": 244,
   "metadata": {},
   "outputs": [
    {
     "name": "stdout",
     "output_type": "stream",
     "text": [
      "[tensor([[[[ 2.2489e+00,  2.1663e+00,  2.0988e+00,  ...,  5.9282e-01,\n",
      "            6.4754e-01, -6.2933e-02],\n",
      "          [ 2.1288e+00,  2.1476e+00,  2.0696e+00,  ...,  6.7501e-01,\n",
      "            6.0935e-01,  8.7243e-02],\n",
      "          [ 2.1119e+00,  1.8166e+00,  2.0969e+00,  ...,  7.4498e-01,\n",
      "            7.3369e-01,  4.3502e-01],\n",
      "          ...,\n",
      "          [-1.2274e+00, -1.2439e+00, -1.2445e+00,  ...,  1.5079e+00,\n",
      "            1.4209e+00,  1.2662e+00],\n",
      "          [-1.2274e+00, -1.2439e+00, -1.2445e+00,  ...,  1.5592e+00,\n",
      "            1.3084e+00,  1.2670e+00],\n",
      "          [-1.2274e+00, -1.2439e+00, -1.2445e+00,  ...,  1.4966e+00,\n",
      "            9.6515e-01,  9.8168e-01]],\n",
      "\n",
      "         [[ 2.4111e+00,  2.2759e+00,  2.1886e+00,  ...,  8.4261e-01,\n",
      "            9.3152e-01,  2.0518e-01],\n",
      "          [ 2.2422e+00,  2.2552e+00,  2.1588e+00,  ...,  9.5554e-01,\n",
      "            8.9248e-01,  3.5871e-01],\n",
      "          [ 2.2185e+00,  1.9166e+00,  2.1866e+00,  ...,  1.0729e+00,\n",
      "            1.0613e+00,  7.5600e-01],\n",
      "          ...,\n",
      "          [-9.6779e-01, -9.8468e-01, -9.8529e-01,  ...,  1.0933e+00,\n",
      "            1.0043e+00,  8.4621e-01],\n",
      "          [-9.6779e-01, -9.8468e-01, -9.8529e-01,  ...,  1.1457e+00,\n",
      "            8.8939e-01,  8.4703e-01],\n",
      "          [-9.6779e-01, -9.8468e-01, -9.8529e-01,  ...,  1.0817e+00,\n",
      "            5.3843e-01,  5.5532e-01]],\n",
      "\n",
      "         [[ 2.6051e+00,  2.5042e+00,  2.5006e+00,  ...,  1.4435e+00,\n",
      "            1.5168e+00,  8.2736e-01],\n",
      "          [ 2.4370e+00,  2.4836e+00,  2.4709e+00,  ...,  1.5721e+00,\n",
      "            1.5075e+00,  9.8021e-01],\n",
      "          [ 2.4134e+00,  2.1465e+00,  2.4986e+00,  ...,  1.6774e+00,\n",
      "            1.6659e+00,  1.3619e+00],\n",
      "          ...,\n",
      "          [-7.9355e-01, -8.1037e-01, -8.1098e-01,  ...,  7.0269e-01,\n",
      "            6.4689e-01,  4.8950e-01],\n",
      "          [-7.9355e-01, -8.1037e-01, -8.1098e-01,  ...,  7.5490e-01,\n",
      "            5.3249e-01,  4.9032e-01],\n",
      "          [-7.9355e-01, -8.1037e-01, -8.1098e-01,  ...,  6.9113e-01,\n",
      "            1.8310e-01,  1.9991e-01]]],\n",
      "\n",
      "\n",
      "        [[[ 3.5226e-01,  3.7952e-01,  5.0722e-01,  ..., -8.3370e-01,\n",
      "           -7.7075e-01, -3.9361e-01],\n",
      "          [-5.5545e-01,  6.4667e-01,  6.7168e-01,  ..., -9.6704e-01,\n",
      "           -3.7750e-01, -5.2109e-01],\n",
      "          [ 1.2355e-01,  3.4502e-01,  5.4529e-01,  ..., -6.9759e-01,\n",
      "           -8.0163e-01, -5.8754e-01],\n",
      "          ...,\n",
      "          [-5.5472e-01,  9.9125e-02, -6.6936e-01,  ..., -1.3545e+00,\n",
      "           -6.1185e-01, -6.2482e-01],\n",
      "          [-5.9300e-02,  4.1846e-01,  6.2661e-01,  ..., -1.1841e+00,\n",
      "           -1.0681e+00, -7.6407e-01],\n",
      "          [-5.9025e-01,  4.1329e-01, -1.1410e+00,  ..., -1.3592e+00,\n",
      "           -1.3490e+00, -5.0175e-01]],\n",
      "\n",
      "         [[ 1.0184e+00,  1.0199e+00,  1.0355e+00,  ..., -4.5512e-01,\n",
      "           -4.0505e-01, -9.8685e-02],\n",
      "          [-1.6525e-01,  1.0726e+00,  1.0442e+00,  ..., -6.0011e-01,\n",
      "           -5.5826e-03, -1.7023e-01],\n",
      "          [ 3.3547e-01,  6.2696e-01,  8.2562e-01,  ..., -4.0453e-01,\n",
      "           -5.0553e-01, -2.4623e-01],\n",
      "          ...,\n",
      "          [-3.5980e-01,  2.9159e-01, -4.1491e-01,  ..., -1.2442e+00,\n",
      "           -4.2718e-01, -3.7147e-01],\n",
      "          [ 8.8708e-02,  5.9813e-01,  8.5664e-01,  ..., -9.6357e-01,\n",
      "           -8.8627e-01, -5.0036e-01],\n",
      "          [-4.2144e-01,  5.6655e-01, -1.0597e+00,  ..., -1.0744e+00,\n",
      "           -1.0401e+00, -2.0842e-01]],\n",
      "\n",
      "         [[-2.9784e-02, -1.2883e-03,  1.3864e-01,  ..., -7.7924e-01,\n",
      "           -7.3958e-01, -4.0296e-01],\n",
      "          [-6.4650e-01,  5.3079e-01,  5.1593e-01,  ..., -7.8419e-01,\n",
      "           -2.5004e-01, -4.2029e-01],\n",
      "          [ 1.4339e-01,  1.8944e-01,  4.5945e-01,  ..., -4.7680e-01,\n",
      "           -6.0782e-01, -3.8926e-01],\n",
      "          ...,\n",
      "          [-6.2983e-01,  1.9806e-01, -7.4099e-01,  ..., -1.3091e+00,\n",
      "           -7.3247e-01, -7.4054e-01],\n",
      "          [-3.7608e-02,  6.0096e-01,  4.2792e-01,  ..., -1.1213e+00,\n",
      "           -1.0777e+00, -7.6492e-01],\n",
      "          [-7.2564e-01,  5.1283e-01, -1.1010e+00,  ..., -1.2979e+00,\n",
      "           -1.3230e+00, -4.2407e-01]]],\n",
      "\n",
      "\n",
      "        [[[ 2.2489e+00,  2.2489e+00,  2.2489e+00,  ...,  2.2489e+00,\n",
      "            2.2489e+00,  2.2489e+00],\n",
      "          [ 2.2489e+00,  2.2489e+00,  2.2489e+00,  ...,  2.2489e+00,\n",
      "            2.2489e+00,  2.2489e+00],\n",
      "          [ 2.2489e+00,  2.2489e+00,  2.2489e+00,  ...,  2.2489e+00,\n",
      "            2.2489e+00,  2.2489e+00],\n",
      "          ...,\n",
      "          [ 1.6388e+00,  1.7259e+00,  1.4854e+00,  ...,  2.6369e-02,\n",
      "            3.9504e-01,  4.7870e-01],\n",
      "          [ 1.3735e+00,  1.6410e+00,  1.4889e+00,  ...,  4.4034e-01,\n",
      "            5.1075e-01,  6.5440e-01],\n",
      "          [ 1.5488e+00,  1.6219e+00,  1.6502e+00,  ...,  5.9177e-01,\n",
      "            5.5816e-01,  7.5313e-01]],\n",
      "\n",
      "         [[ 2.4286e+00,  2.4286e+00,  2.4286e+00,  ...,  2.4286e+00,\n",
      "            2.4286e+00,  2.4286e+00],\n",
      "          [ 2.4286e+00,  2.4286e+00,  2.4286e+00,  ...,  2.4286e+00,\n",
      "            2.4286e+00,  2.4286e+00],\n",
      "          [ 2.4286e+00,  2.4286e+00,  2.4286e+00,  ...,  2.4286e+00,\n",
      "            2.4286e+00,  2.4286e+00],\n",
      "          ...,\n",
      "          [ 1.8048e+00,  1.8803e+00,  1.6325e+00,  ...,  5.7134e-01,\n",
      "            8.0543e-01,  9.6149e-01],\n",
      "          [ 1.5336e+00,  1.8071e+00,  1.6644e+00,  ...,  8.9346e-01,\n",
      "            1.0220e+00,  1.1224e+00],\n",
      "          [ 1.7115e+00,  1.7876e+00,  1.8165e+00,  ...,  1.0745e+00,\n",
      "            1.1068e+00,  1.2482e+00]],\n",
      "\n",
      "         [[ 2.6400e+00,  2.6400e+00,  2.6400e+00,  ...,  2.6400e+00,\n",
      "            2.6400e+00,  2.6400e+00],\n",
      "          [ 2.6400e+00,  2.6400e+00,  2.6400e+00,  ...,  2.6400e+00,\n",
      "            2.6400e+00,  2.6400e+00],\n",
      "          [ 2.6400e+00,  2.6400e+00,  2.6400e+00,  ...,  2.6400e+00,\n",
      "            2.6400e+00,  2.6400e+00],\n",
      "          ...,\n",
      "          [ 2.0539e+00,  2.1694e+00,  1.8166e+00,  ...,  1.0203e+00,\n",
      "            1.2775e+00,  1.4563e+00],\n",
      "          [ 1.7222e+00,  2.0387e+00,  1.9128e+00,  ...,  1.4053e+00,\n",
      "            1.5105e+00,  1.5842e+00],\n",
      "          [ 2.0092e+00,  2.0736e+00,  2.0427e+00,  ...,  1.5339e+00,\n",
      "            1.6338e+00,  1.6915e+00]]],\n",
      "\n",
      "\n",
      "        [[[ 1.2647e+00,  1.2473e+00,  1.3695e+00,  ...,  3.7199e-01,\n",
      "            4.3202e-01,  2.3519e-01],\n",
      "          [ 1.0738e+00,  7.0637e-01,  2.1468e-01,  ...,  6.2667e-01,\n",
      "            7.5385e-01, -1.6788e-01],\n",
      "          [ 4.8078e-01, -9.6048e-02, -1.0838e+00,  ...,  3.8982e-01,\n",
      "            5.2472e-01,  6.4449e-01],\n",
      "          ...,\n",
      "          [ 9.2161e-01,  7.5127e-01,  1.0738e+00,  ..., -1.6055e+00,\n",
      "           -1.3625e+00, -1.7009e+00],\n",
      "          [ 1.2851e+00,  9.6384e-01,  9.3931e-01,  ..., -1.6001e+00,\n",
      "           -1.6086e+00, -1.7592e+00],\n",
      "          [-4.4573e-02,  1.2326e+00,  5.2995e-01,  ..., -1.5197e+00,\n",
      "           -1.7074e+00, -1.6370e+00]],\n",
      "\n",
      "         [[ 1.5058e+00,  1.4844e+00,  1.6191e+00,  ...,  8.3913e-01,\n",
      "            8.6474e-01,  8.5080e-01],\n",
      "          [ 1.6174e+00,  1.1872e+00,  6.0286e-01,  ...,  1.1378e+00,\n",
      "            1.2730e+00,  1.9774e-01],\n",
      "          [ 7.6404e-01,  1.5348e-01, -8.8797e-01,  ...,  8.4448e-01,\n",
      "            9.0799e-01,  1.0334e+00],\n",
      "          ...,\n",
      "          [ 1.0771e+00,  9.2630e-01,  1.3180e+00,  ..., -1.5384e+00,\n",
      "           -1.2900e+00, -1.6794e+00],\n",
      "          [ 1.4154e+00,  1.1099e+00,  1.1025e+00,  ..., -1.6809e+00,\n",
      "           -1.7003e+00, -1.6586e+00],\n",
      "          [ 2.4146e-01,  1.5475e+00,  8.2880e-01,  ..., -1.4145e+00,\n",
      "           -1.6079e+00, -1.6615e+00]],\n",
      "\n",
      "         [[ 1.3046e+00,  1.5713e+00,  1.8857e+00,  ...,  2.6817e-01,\n",
      "            5.1004e-01,  5.4119e-01],\n",
      "          [ 1.1495e+00,  7.0040e-01,  1.4859e-01,  ...,  3.5153e-01,\n",
      "            4.4571e-01, -4.8015e-01],\n",
      "          [ 8.2266e-02, -3.4666e-01, -1.1967e+00,  ...,  1.8945e-01,\n",
      "            2.9005e-01,  1.7345e-01],\n",
      "          ...,\n",
      "          [ 1.4123e-01,  4.4316e-02,  5.1288e-01,  ..., -1.3761e+00,\n",
      "           -1.1287e+00, -1.4323e+00],\n",
      "          [ 8.6912e-01,  3.8492e-01,  2.6231e-01,  ..., -1.4338e+00,\n",
      "           -1.4480e+00, -1.4342e+00],\n",
      "          [-4.6120e-01,  7.6841e-01,  5.5558e-02,  ..., -1.3733e+00,\n",
      "           -1.5650e+00, -1.3929e+00]]]], dtype=torch.float64), tensor([ 30,  10, 121,  86], dtype=torch.int32)]\n"
     ]
    }
   ],
   "source": [
    "for i_batch, sample_batched in enumerate(dataloader):\n",
    "    print(sample_batched)\n",
    "    break\n"
   ]
  },
  {
   "cell_type": "code",
   "execution_count": 218,
   "metadata": {},
   "outputs": [
    {
     "data": {
      "text/plain": [
       "torch.Size([4, 3, 256, 256])"
      ]
     },
     "execution_count": 218,
     "metadata": {},
     "output_type": "execute_result"
    }
   ],
   "source": [
    "sample_batched[0].shape"
   ]
  },
  {
   "cell_type": "code",
   "execution_count": 221,
   "metadata": {},
   "outputs": [
    {
     "data": {
      "text/plain": [
       "tensor([ 30,  81, 114,   1], dtype=torch.int32)"
      ]
     },
     "execution_count": 221,
     "metadata": {},
     "output_type": "execute_result"
    }
   ],
   "source": [
    "sample_batched[1]"
   ]
  },
  {
   "cell_type": "code",
   "execution_count": 97,
   "metadata": {},
   "outputs": [
    {
     "data": {
      "text/plain": [
       "1"
      ]
     },
     "execution_count": 97,
     "metadata": {},
     "output_type": "execute_result"
    }
   ],
   "source": [
    "model_conv = torchvision.models.resnet18(pretrained=True)"
   ]
  },
  {
   "cell_type": "markdown",
   "metadata": {},
   "source": []
  }
 ],
 "metadata": {
  "kernelspec": {
   "display_name": "udaenv",
   "language": "python",
   "name": "python3"
  },
  "language_info": {
   "codemirror_mode": {
    "name": "ipython",
    "version": 3
   },
   "file_extension": ".py",
   "mimetype": "text/x-python",
   "name": "python",
   "nbconvert_exporter": "python",
   "pygments_lexer": "ipython3",
   "version": "3.8.10"
  },
  "orig_nbformat": 4,
  "vscode": {
   "interpreter": {
    "hash": "de130e3e5e950acd1a1bb2b6225ab443fdc4d8111857cf1ee2dd4cc65d23cf33"
   }
  }
 },
 "nbformat": 4,
 "nbformat_minor": 2
}
